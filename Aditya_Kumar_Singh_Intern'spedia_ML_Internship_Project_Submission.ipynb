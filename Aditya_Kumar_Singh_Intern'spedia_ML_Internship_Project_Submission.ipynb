{
 "cells": [
  {
   "cell_type": "markdown",
   "id": "722f36ac",
   "metadata": {},
   "source": [
    " <h1><b>Objective of this notebook:</b></h1><br />\n",
    " To cartoonify the image uploaded by the user using python packages."
   ]
  },
  {
   "cell_type": "markdown",
   "id": "63d87f86",
   "metadata": {},
   "source": [
    "<h3>Importing required packages</h3>"
   ]
  },
  {
   "cell_type": "code",
   "execution_count": 1,
   "id": "0d1a6eb6",
   "metadata": {},
   "outputs": [],
   "source": [
    "# For image processing\n",
    "import cv2\n",
    "\n",
    "# For opening the filebox\n",
    "import easygui\n",
    "\n",
    "# For storing the image\n",
    "import numpy as np\n",
    "\n",
    "# For reading the image stored at particular path\n",
    "import imageio\n",
    "\n",
    "# For interacting with the underlying operating system\n",
    "import os\n",
    "import sys\n",
    "\n",
    "# For creating static, animated and interactive visualizations\n",
    "import matplotlib.pyplot as plt\n",
    "\n",
    "# For creating graphical user interfaces\n",
    "import tkinter as tk\n",
    "from tkinter import *\n",
    "from tkinter import filedialog\n",
    "from tkinter import messagebox\n",
    "\n",
    "# For opening, manipulating and saving many different image file formats\n",
    "from PIL import ImageTk, Image"
   ]
  },
  {
   "cell_type": "markdown",
   "id": "ee07ca2d",
   "metadata": {},
   "source": [
    "<h3>User defined functions</h3>"
   ]
  },
  {
   "cell_type": "code",
   "execution_count": 2,
   "id": "5eb551d3",
   "metadata": {},
   "outputs": [],
   "source": [
    "# Creating user defined function to upload the image to be cartoonified\n",
    "def upload():\n",
    "    ImagePath=easygui.fileopenbox()\n",
    "    cartoonify(ImagePath)\n",
    "    \n",
    "# ----------------------------------------------------------------------------------------------------#\n",
    "\n",
    "# Creating user defined function to cartoonify the image uploaded by the user \n",
    "def cartoonify(ImagePath):\n",
    "    \n",
    "    # Reading the image uploaded by the user\n",
    "    originalmage = cv2.imread(ImagePath)\n",
    "    originalmage = cv2.cvtColor(originalmage, cv2.COLOR_BGR2RGB)\n",
    "    ReSized1 = cv2.resize(originalmage, (960, 540))\n",
    "\n",
    "    if (originalmage is not None):\n",
    "        grayScaleImage = cv2.cvtColor(originalmage,  cv2.COLOR_BGR2GRAY)\n",
    "        ReSized2 = cv2.resize(grayScaleImage, (960, 540))\n",
    "        \n",
    "    elif originalmage is None:\n",
    "        print(\"Can not find any image. Choose appropriate file\")\n",
    "        sys.exit()\n",
    "    \n",
    "\n",
    "    # Smoothening the grayscale image\n",
    "    smoothGrayScale = cv2.medianBlur(grayScaleImage, 5)\n",
    "    ReSized3 = cv2.resize(smoothGrayScale, (960, 540))\n",
    "    \n",
    "    # Retrieving the edges of the image\n",
    "    getEdge = cv2.adaptiveThreshold(smoothGrayScale, 255,\n",
    "                                    cv2.ADAPTIVE_THRESH_MEAN_C,\n",
    "                                    cv2.THRESH_BINARY, 9, 9)\n",
    "    ReSized4 = cv2.resize(getEdge, (960, 540))\n",
    "    \n",
    "    # Preparing Mask Image\n",
    "    colorImage = cv2.bilateralFilter(originalmage, 8, 300, 300)\n",
    "    ReSized5 = cv2.resize(colorImage, (960, 540))\n",
    "    \n",
    "    # Giving a Cartoon Effect\n",
    "    cartoonImage = cv2.bitwise_and(colorImage, colorImage, mask=getEdge)\n",
    "    ReSized6 = cv2.resize(cartoonImage, (960, 540))\n",
    "    \n",
    "    # Plotting the whole transition\n",
    "    images=[ReSized1, ReSized2, ReSized3, ReSized4, ReSized5, ReSized6]\n",
    "    fig, axes = plt.subplots(3,2, figsize=(8,8), subplot_kw={'xticks':[], 'yticks':[]}, gridspec_kw=dict(hspace=0.1,\n",
    "                                                                                                         wspace=0.1))\n",
    "    for i, ax in enumerate(axes.flat):\n",
    "        ax.imshow(images[i], cmap='gray')\n",
    "    save1=Button(top,text=\"Save cartoon image\",command=lambda: save(ReSized6, ImagePath),padx=30,pady=5)\n",
    "    save1.configure(background='#364156', foreground='white',font=('calibri',10,'bold'))\n",
    "    save1.pack(side=TOP,pady=50)\n",
    "    \n",
    "    # Displaying the result images\n",
    "    plt.show()\n",
    "    \n",
    "\n",
    "# --------------------------------------------------------------------------------------------------#\n",
    "\n",
    "# Creating user defined function to ......\n",
    "def save(ReSized6, ImagePath):\n",
    "    \n",
    "    #saving an image using imwrite()\n",
    "    newName=\"cartoonified_Image\"\n",
    "    path1 = os.path.dirname(ImagePath)\n",
    "    extension=os.path.splitext(ImagePath)[1]\n",
    "    path = os.path.join(path1, newName+extension)\n",
    "    cv2.imwrite(path, cv2.cvtColor(ReSized6, cv2.COLOR_RGB2BGR))\n",
    "    I= \"Image saved as \" + newName +\" at \"+ path\n",
    "    messagebox.showinfo(title=None, message=I)"
   ]
  },
  {
   "cell_type": "markdown",
   "id": "a4e91986",
   "metadata": {},
   "source": [
    "<h3>Creating the User Interface Window</h3>"
   ]
  },
  {
   "cell_type": "code",
   "execution_count": 3,
   "id": "755822f3",
   "metadata": {},
   "outputs": [],
   "source": [
    "# Creating a tkinter object to call the modules\n",
    "top=tk.Tk()\n",
    "top.geometry('400x400')\n",
    "top.title('Cartoonify your Image')\n",
    "top.configure(background='white')\n",
    "label=Label(top,background='#CDCDCD', font=('calibri',20,'bold'))"
   ]
  },
  {
   "cell_type": "code",
   "execution_count": 4,
   "id": "d2717087",
   "metadata": {},
   "outputs": [],
   "source": [
    "# Making the Cartoonify button in the main window\n",
    "upload=Button(top,text=\"Cartoonify an Image\",command=upload,padx=10,pady=5)\n",
    "upload.configure(background='#364156', foreground='white',font=('calibri',10,'bold'))\n",
    "upload.pack(side=TOP,pady=50)"
   ]
  },
  {
   "cell_type": "markdown",
   "id": "738a2d9f",
   "metadata": {},
   "source": [
    "<h3>Code Execution</h3>"
   ]
  },
  {
   "cell_type": "code",
   "execution_count": null,
   "id": "150e4ce0",
   "metadata": {},
   "outputs": [],
   "source": [
    "# Calling the function to run the tkinter event and update the user interface\n",
    "top.mainloop()\n"
   ]
  },
  {
   "cell_type": "code",
   "execution_count": null,
   "id": "10ae5afa",
   "metadata": {},
   "outputs": [],
   "source": []
  }
 ],
 "metadata": {
  "kernelspec": {
   "display_name": "Python 3 (ipykernel)",
   "language": "python",
   "name": "python3"
  },
  "language_info": {
   "codemirror_mode": {
    "name": "ipython",
    "version": 3
   },
   "file_extension": ".py",
   "mimetype": "text/x-python",
   "name": "python",
   "nbconvert_exporter": "python",
   "pygments_lexer": "ipython3",
   "version": "3.9.12"
  }
 },
 "nbformat": 4,
 "nbformat_minor": 5
}
